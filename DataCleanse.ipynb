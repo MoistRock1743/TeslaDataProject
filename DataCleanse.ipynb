{
  "cells": [
    {
      "cell_type": "code",
      "execution_count": 1,
      "metadata": {
        "colab": {
          "base_uri": "https://localhost:8080/"
        },
        "id": "k6AVCfEwiTnQ",
        "outputId": "1a43491a-9952-436e-d989-a3921e702113"
      },
      "outputs": [
        {
          "name": "stderr",
          "output_type": "stream",
          "text": [
            "[nltk_data] Downloading package vader_lexicon to\n",
            "[nltk_data]     C:\\Users\\xxran\\AppData\\Roaming\\nltk_data...\n",
            "[nltk_data]   Package vader_lexicon is already up-to-date!\n"
          ]
        },
        {
          "data": {
            "text/plain": [
              "True"
            ]
          },
          "execution_count": 1,
          "metadata": {},
          "output_type": "execute_result"
        }
      ],
      "source": [
        "import numpy as np \n",
        "import pandas as pd \n",
        "import re\n",
        "import matplotlib.pyplot as plt\n",
        "import nltk\n",
        "from nltk.sentiment.vader import SentimentIntensityAnalyzer\n",
        "import warnings \n",
        "warnings.filterwarnings('ignore')\n",
        "nltk.download('vader_lexicon')"
      ]
    },
    {
      "cell_type": "code",
      "execution_count": 40,
      "metadata": {
        "colab": {
          "base_uri": "https://localhost:8080/",
          "height": 419
        },
        "id": "dNBUzDx4iZd8",
        "outputId": "8f21b53d-8225-4414-9d40-706fcba9c723"
      },
      "outputs": [
        {
          "data": {
            "text/html": [
              "<div>\n",
              "<style scoped>\n",
              "    .dataframe tbody tr th:only-of-type {\n",
              "        vertical-align: middle;\n",
              "    }\n",
              "\n",
              "    .dataframe tbody tr th {\n",
              "        vertical-align: top;\n",
              "    }\n",
              "\n",
              "    .dataframe thead th {\n",
              "        text-align: right;\n",
              "    }\n",
              "</style>\n",
              "<table border=\"1\" class=\"dataframe\">\n",
              "  <thead>\n",
              "    <tr style=\"text-align: right;\">\n",
              "      <th></th>\n",
              "      <th>tweet</th>\n",
              "    </tr>\n",
              "  </thead>\n",
              "  <tbody>\n",
              "    <tr>\n",
              "      <th>0</th>\n",
              "      <td>have them still live home being homeschooled t...</td>\n",
              "    </tr>\n",
              "    <tr>\n",
              "      <th>1</th>\n",
              "      <td>then your dozen kids just missing more</td>\n",
              "    </tr>\n",
              "    <tr>\n",
              "      <th>2</th>\n",
              "      <td>about buying country could turn into richest c...</td>\n",
              "    </tr>\n",
              "    <tr>\n",
              "      <th>3</th>\n",
              "      <td>actual receipts havent asked anyone tesla grif...</td>\n",
              "    </tr>\n",
              "    <tr>\n",
              "      <th>4</th>\n",
              "      <td>tesla wall battery save power went still when ...</td>\n",
              "    </tr>\n",
              "  </tbody>\n",
              "</table>\n",
              "</div>"
            ],
            "text/plain": [
              "                                               tweet\n",
              "0  have them still live home being homeschooled t...\n",
              "1             then your dozen kids just missing more\n",
              "2  about buying country could turn into richest c...\n",
              "3  actual receipts havent asked anyone tesla grif...\n",
              "4  tesla wall battery save power went still when ..."
            ]
          },
          "execution_count": 40,
          "metadata": {},
          "output_type": "execute_result"
        }
      ],
      "source": [
        "# Read in original csv from my GitHub\n",
        "initDataDf = pd.read_csv(\"https://raw.githubusercontent.com/JordanVencel/DFProject/main/Tesla.csv\")\n",
        "# Filter out tweets that are not in english \n",
        "filterDf = initDataDf[['language','tweet']]\n",
        "filterDf = filterDf.where(filterDf['language'] == 'en')\n",
        "filterDf = filterDf[filterDf['language'].notna()]\n",
        "# Grab only tweet text data\n",
        "tweetDf = filterDf['tweet'].to_frame()\n",
        "tweetDf = tweetDf.reset_index(drop=True)\n",
        "\n",
        "# Filter out @s, hashtags, external links, and other irrelavant information using regex\n",
        "for row in tweetDf.iterrows():\n",
        "    index = row[0]\n",
        "    booty = re.sub(r\"([@#])\\w+\", \"\", row[1][0])\n",
        "    booty = re.sub(r\"(https)([^\\s]+)\", \"\", booty)\n",
        "    booty = re.sub(r\"(\\?)\", \"\", booty)\n",
        "    booty = re.sub(r\"(.com)\", \"\", booty)\n",
        "    booty = re.sub(r\"([^A-Za-z'\\\"\\s])\", \"\", booty)\n",
        "    booty = re.sub(r\"(^[ \\t]+)\", \"\", booty)\n",
        "    booty = re.sub('\"', '', booty)\n",
        "    booty = re.sub(\"'\", '', booty)\n",
        "    booty = booty.lower()\n",
        "    tweetDf.iloc[index][0] = booty\n",
        "tweetDf.tweet = tweetDf.tweet.apply(lambda x: ' '.join([w for w in x.split() if len(w) > 3]))\n",
        "tweetDf = tweetDf.tweet.apply(lambda x: x.strip()).replace('', np.nan).to_frame()\n",
        "\n",
        "tweetDf.head()"
      ]
    },
    {
      "cell_type": "code",
      "execution_count": 3,
      "metadata": {
        "colab": {
          "base_uri": "https://localhost:8080/"
        },
        "id": "AnGGxds0idLN",
        "outputId": "6b0bf21c-ea58-43fb-cde2-50d8d5b0d7dd"
      },
      "outputs": [],
      "source": [
        "# Set up row id formatting for nltk\n",
        "import sys\n",
        "tweetDf['row_id'] = 0\n",
        "tweetDf = tweetDf[['row_id', 'tweet']]\n",
        "for row in tweetDf.iterrows():\n",
        "    index = row[0]\n",
        "    newVal = int(index) + 1\n",
        "    tweetDf['row_id'][index] = newVal"
      ]
    },
    {
      "cell_type": "code",
      "execution_count": 22,
      "metadata": {
        "colab": {
          "base_uri": "https://localhost:8080/"
        },
        "id": "m9GW0bgBihg1",
        "outputId": "065a5fe0-0b91-4fec-dc5a-92b0520ca128"
      },
      "outputs": [
        {
          "name": "stdout",
          "output_type": "stream",
          "text": [
            "Processing sentiment analysis...\n",
            "    row_id sentiment_type  sentiment_score  \\\n",
            "0        1       compound          -0.4767   \n",
            "0        2       compound          -0.2960   \n",
            "0        3       compound           0.5267   \n",
            "0        4       compound           0.4404   \n",
            "0        5       compound           0.4939   \n",
            "..     ...            ...              ...   \n",
            "0     7354       compound           0.4215   \n",
            "0     7355       compound          -0.0516   \n",
            "0     7356       compound           0.0000   \n",
            "0     7357       compound           0.6808   \n",
            "0     7358       compound           0.6124   \n",
            "\n",
            "                                                tweet  \n",
            "0   have them still live home being homeschooled t...  \n",
            "0   have them still live home being homeschooled t...  \n",
            "0   have them still live home being homeschooled t...  \n",
            "0   have them still live home being homeschooled t...  \n",
            "0   have them still live home being homeschooled t...  \n",
            "..                                                ...  \n",
            "0   have them still live home being homeschooled t...  \n",
            "0   have them still live home being homeschooled t...  \n",
            "0   have them still live home being homeschooled t...  \n",
            "0   have them still live home being homeschooled t...  \n",
            "0   have them still live home being homeschooled t...  \n",
            "\n",
            "[7358 rows x 4 columns]\n"
          ]
        }
      ],
      "source": [
        "sentimentDf = pd.DataFrame()\n",
        "sentimentDf['row_id'] = ['99999999999']\n",
        "sentimentDf['sentiment_type'] = 'NA999NA'\n",
        "sentimentDf['sentiment_score'] = 0\n",
        "\n",
        "print('Processing sentiment analysis...')\n",
        "sia = SentimentIntensityAnalyzer()\n",
        "tempDf = sentimentDf\n",
        "for index, row in tweetDf.iterrows():\n",
        "    scores = sia.polarity_scores(row[1])\n",
        "    for key, value in scores.items():\n",
        "        temp = [key,value,row[0]]\n",
        "        sentimentDf['row_id'] = row[0]\n",
        "        sentimentDf['sentiment_type'] = key\n",
        "        sentimentDf['sentiment_score'] = value\n",
        "        tempDf = tempDf.append(sentimentDf)\n",
        "\n",
        "#remove dummy row with row_id = 99999999999\n",
        "tempDf_cleaned = tempDf[tempDf.row_id != '99999999999']\n",
        "#remove duplicates if any exist\n",
        "tempDf_cleaned = tempDf_cleaned.drop_duplicates()\n",
        "# only keep rows where sentiment_type = compound\n",
        "tempDf_cleaned = tempDf[tempDf.sentiment_type == 'compound']\n",
        "\n",
        "tempDf_cleaned['tweet'] = tweetDf['tweet']\n",
        "\n",
        "print(tempDf_cleaned)"
      ]
    },
    {
      "cell_type": "code",
      "execution_count": 5,
      "metadata": {
        "colab": {
          "base_uri": "https://localhost:8080/",
          "height": 419
        },
        "id": "-eGF0MEOw6cS",
        "outputId": "177243e8-d46a-4d82-fb38-ecaf01d5f906"
      },
      "outputs": [
        {
          "data": {
            "text/html": [
              "<div>\n",
              "<style scoped>\n",
              "    .dataframe tbody tr th:only-of-type {\n",
              "        vertical-align: middle;\n",
              "    }\n",
              "\n",
              "    .dataframe tbody tr th {\n",
              "        vertical-align: top;\n",
              "    }\n",
              "\n",
              "    .dataframe thead th {\n",
              "        text-align: right;\n",
              "    }\n",
              "</style>\n",
              "<table border=\"1\" class=\"dataframe\">\n",
              "  <thead>\n",
              "    <tr style=\"text-align: right;\">\n",
              "      <th></th>\n",
              "      <th>row_id</th>\n",
              "      <th>sentiment_type</th>\n",
              "      <th>sentiment_score</th>\n",
              "    </tr>\n",
              "  </thead>\n",
              "  <tbody>\n",
              "    <tr>\n",
              "      <th>0</th>\n",
              "      <td>1</td>\n",
              "      <td>compound</td>\n",
              "      <td>-0.4767</td>\n",
              "    </tr>\n",
              "    <tr>\n",
              "      <th>1</th>\n",
              "      <td>2</td>\n",
              "      <td>compound</td>\n",
              "      <td>-0.2960</td>\n",
              "    </tr>\n",
              "    <tr>\n",
              "      <th>2</th>\n",
              "      <td>3</td>\n",
              "      <td>compound</td>\n",
              "      <td>0.5267</td>\n",
              "    </tr>\n",
              "    <tr>\n",
              "      <th>3</th>\n",
              "      <td>4</td>\n",
              "      <td>compound</td>\n",
              "      <td>0.4404</td>\n",
              "    </tr>\n",
              "    <tr>\n",
              "      <th>4</th>\n",
              "      <td>5</td>\n",
              "      <td>compound</td>\n",
              "      <td>0.4939</td>\n",
              "    </tr>\n",
              "    <tr>\n",
              "      <th>...</th>\n",
              "      <td>...</td>\n",
              "      <td>...</td>\n",
              "      <td>...</td>\n",
              "    </tr>\n",
              "    <tr>\n",
              "      <th>7353</th>\n",
              "      <td>7354</td>\n",
              "      <td>compound</td>\n",
              "      <td>0.4215</td>\n",
              "    </tr>\n",
              "    <tr>\n",
              "      <th>7354</th>\n",
              "      <td>7355</td>\n",
              "      <td>compound</td>\n",
              "      <td>-0.0516</td>\n",
              "    </tr>\n",
              "    <tr>\n",
              "      <th>7355</th>\n",
              "      <td>7356</td>\n",
              "      <td>compound</td>\n",
              "      <td>0.0000</td>\n",
              "    </tr>\n",
              "    <tr>\n",
              "      <th>7356</th>\n",
              "      <td>7357</td>\n",
              "      <td>compound</td>\n",
              "      <td>0.6808</td>\n",
              "    </tr>\n",
              "    <tr>\n",
              "      <th>7357</th>\n",
              "      <td>7358</td>\n",
              "      <td>compound</td>\n",
              "      <td>0.6124</td>\n",
              "    </tr>\n",
              "  </tbody>\n",
              "</table>\n",
              "<p>7358 rows × 3 columns</p>\n",
              "</div>"
            ],
            "text/plain": [
              "      row_id sentiment_type  sentiment_score\n",
              "0          1       compound          -0.4767\n",
              "1          2       compound          -0.2960\n",
              "2          3       compound           0.5267\n",
              "3          4       compound           0.4404\n",
              "4          5       compound           0.4939\n",
              "...      ...            ...              ...\n",
              "7353    7354       compound           0.4215\n",
              "7354    7355       compound          -0.0516\n",
              "7355    7356       compound           0.0000\n",
              "7356    7357       compound           0.6808\n",
              "7357    7358       compound           0.6124\n",
              "\n",
              "[7358 rows x 3 columns]"
            ]
          },
          "execution_count": 5,
          "metadata": {},
          "output_type": "execute_result"
        }
      ],
      "source": [
        "tempDf_cleaned = tempDf_cleaned.reset_index(drop=True)\n",
        "tempDf_cleaned"
      ]
    },
    {
      "cell_type": "code",
      "execution_count": 6,
      "metadata": {
        "colab": {
          "base_uri": "https://localhost:8080/",
          "height": 480
        },
        "id": "Co6cXTRtli9y",
        "outputId": "82fb3267-7743-443f-9c39-05a7a52adbcf"
      },
      "outputs": [
        {
          "data": {
            "text/html": [
              "<div>\n",
              "<style scoped>\n",
              "    .dataframe tbody tr th:only-of-type {\n",
              "        vertical-align: middle;\n",
              "    }\n",
              "\n",
              "    .dataframe tbody tr th {\n",
              "        vertical-align: top;\n",
              "    }\n",
              "\n",
              "    .dataframe thead th {\n",
              "        text-align: right;\n",
              "    }\n",
              "</style>\n",
              "<table border=\"1\" class=\"dataframe\">\n",
              "  <thead>\n",
              "    <tr style=\"text-align: right;\">\n",
              "      <th></th>\n",
              "      <th>row_id</th>\n",
              "      <th>tweet</th>\n",
              "      <th>sentiment_type</th>\n",
              "      <th>sentiment_score</th>\n",
              "    </tr>\n",
              "  </thead>\n",
              "  <tbody>\n",
              "    <tr>\n",
              "      <th>0</th>\n",
              "      <td>1</td>\n",
              "      <td>have them still live home being homeschooled t...</td>\n",
              "      <td>compound</td>\n",
              "      <td>-0.4767</td>\n",
              "    </tr>\n",
              "    <tr>\n",
              "      <th>1</th>\n",
              "      <td>2</td>\n",
              "      <td>then your dozen kids just missing more</td>\n",
              "      <td>compound</td>\n",
              "      <td>-0.2960</td>\n",
              "    </tr>\n",
              "    <tr>\n",
              "      <th>2</th>\n",
              "      <td>3</td>\n",
              "      <td>about buying country could turn into richest c...</td>\n",
              "      <td>compound</td>\n",
              "      <td>0.5267</td>\n",
              "    </tr>\n",
              "    <tr>\n",
              "      <th>3</th>\n",
              "      <td>4</td>\n",
              "      <td>actual receipts havent asked anyone tesla grif...</td>\n",
              "      <td>compound</td>\n",
              "      <td>0.4404</td>\n",
              "    </tr>\n",
              "    <tr>\n",
              "      <th>4</th>\n",
              "      <td>5</td>\n",
              "      <td>tesla wall battery save power went still when ...</td>\n",
              "      <td>compound</td>\n",
              "      <td>0.4939</td>\n",
              "    </tr>\n",
              "    <tr>\n",
              "      <th>...</th>\n",
              "      <td>...</td>\n",
              "      <td>...</td>\n",
              "      <td>...</td>\n",
              "      <td>...</td>\n",
              "    </tr>\n",
              "    <tr>\n",
              "      <th>7353</th>\n",
              "      <td>7354</td>\n",
              "      <td>elon musk liked tweet from whole mars catalog ...</td>\n",
              "      <td>compound</td>\n",
              "      <td>0.4215</td>\n",
              "    </tr>\n",
              "    <tr>\n",
              "      <th>7354</th>\n",
              "      <td>7355</td>\n",
              "      <td>dude only said buying twitter sell billion tes...</td>\n",
              "      <td>compound</td>\n",
              "      <td>-0.0516</td>\n",
              "    </tr>\n",
              "    <tr>\n",
              "      <th>7355</th>\n",
              "      <td>7356</td>\n",
              "      <td>give your tesla</td>\n",
              "      <td>compound</td>\n",
              "      <td>0.0000</td>\n",
              "    </tr>\n",
              "    <tr>\n",
              "      <th>7356</th>\n",
              "      <td>7357</td>\n",
              "      <td>chick should definitely public they should've ...</td>\n",
              "      <td>compound</td>\n",
              "      <td>0.6808</td>\n",
              "    </tr>\n",
              "    <tr>\n",
              "      <th>7357</th>\n",
              "      <td>7358</td>\n",
              "      <td>fossil fuels like coal natural</td>\n",
              "      <td>compound</td>\n",
              "      <td>0.6124</td>\n",
              "    </tr>\n",
              "  </tbody>\n",
              "</table>\n",
              "<p>7358 rows × 4 columns</p>\n",
              "</div>"
            ],
            "text/plain": [
              "      row_id                                              tweet  \\\n",
              "0          1  have them still live home being homeschooled t...   \n",
              "1          2             then your dozen kids just missing more   \n",
              "2          3  about buying country could turn into richest c...   \n",
              "3          4  actual receipts havent asked anyone tesla grif...   \n",
              "4          5  tesla wall battery save power went still when ...   \n",
              "...      ...                                                ...   \n",
              "7353    7354  elon musk liked tweet from whole mars catalog ...   \n",
              "7354    7355  dude only said buying twitter sell billion tes...   \n",
              "7355    7356                                    give your tesla   \n",
              "7356    7357  chick should definitely public they should've ...   \n",
              "7357    7358                     fossil fuels like coal natural   \n",
              "\n",
              "     sentiment_type  sentiment_score  \n",
              "0          compound          -0.4767  \n",
              "1          compound          -0.2960  \n",
              "2          compound           0.5267  \n",
              "3          compound           0.4404  \n",
              "4          compound           0.4939  \n",
              "...             ...              ...  \n",
              "7353       compound           0.4215  \n",
              "7354       compound          -0.0516  \n",
              "7355       compound           0.0000  \n",
              "7356       compound           0.6808  \n",
              "7357       compound           0.6124  \n",
              "\n",
              "[7358 rows x 4 columns]"
            ]
          },
          "execution_count": 6,
          "metadata": {},
          "output_type": "execute_result"
        }
      ],
      "source": [
        "recombined_df = pd.DataFrame(columns=['row_id', 'tweet', 'sentiment_type', 'sentiment_score'])\n",
        "recombined_df['tweet'] = tweetDf['tweet']\n",
        "recombined_df[['row_id', 'sentiment_type', 'sentiment_score']] = tempDf_cleaned[['row_id', 'sentiment_type', 'sentiment_score']]\n",
        "recombined_df"
      ]
    },
    {
      "cell_type": "code",
      "execution_count": 7,
      "metadata": {
        "id": "Mp8f-aAzyKEe"
      },
      "outputs": [],
      "source": [
        "from gensim.models import Word2Vec, FastText\n",
        "import pandas as pd \n",
        "import re \n",
        "\n",
        "from sklearn.decomposition import PCA\n",
        "\n",
        "from matplotlib import  pyplot as plt \n",
        "import plotly.graph_objects as go \n",
        "\n",
        "import numpy as np "
      ]
    },
    {
      "cell_type": "code",
      "execution_count": 8,
      "metadata": {
        "colab": {
          "base_uri": "https://localhost:8080/"
        },
        "id": "OY_hfeYB0px5",
        "outputId": "ab26c384-9ffa-4236-ae7d-349cc7d72b50"
      },
      "outputs": [],
      "source": [
        "from sklearn.feature_extraction.text import TfidfVectorizer\n",
        "tfidf_vectorizer = TfidfVectorizer(max_df=.90, min_df=2, max_features=1000, stop_words='english')\n",
        "tfidf = tfidf_vectorizer.fit_transform(recombined_df['tweet'])\n",
        "#tfidf_matrix = tfidf.fit_transform(recombined_df.tweet).todense()\n",
        "#vocab = tfidf.vocabulary\n",
        "#print(vocab)"
      ]
    },
    {
      "cell_type": "code",
      "execution_count": 9,
      "metadata": {},
      "outputs": [
        {
          "data": {
            "text/plain": [
              "(1322153, 1883020)"
            ]
          },
          "execution_count": 9,
          "metadata": {},
          "output_type": "execute_result"
        }
      ],
      "source": [
        "tokenized_tweet = recombined_df['tweet'].apply(lambda x: x.split())\n",
        "w2v = Word2Vec(tokenized_tweet, min_count=5, vector_size=200, window=5, sg = 1, hs=0, workers=32, seed=34, negative=10)\n",
        "w2v.train(tokenized_tweet, total_examples=len(recombined_df['tweet']), epochs=20)\n",
        "#print(w2v)\n",
        "\n",
        "#Word2Vec(vector_size=2, alpha=0.025)"
      ]
    },
    {
      "cell_type": "code",
      "execution_count": 10,
      "metadata": {},
      "outputs": [
        {
          "data": {
            "text/plain": [
              "[('musk', 0.6655729413032532),\n",
              " ('mock', 0.544624924659729),\n",
              " ('rival', 0.539978563785553),\n",
              " ('defends', 0.5212639570236206),\n",
              " ('snubs', 0.5208228230476379),\n",
              " ('donald', 0.5145787596702576),\n",
              " (\"artist'\", 0.5116262435913086),\n",
              " ('rips', 0.5106043815612793),\n",
              " ('amid', 0.508307933807373),\n",
              " ('wachtell', 0.5073443055152893)]"
            ]
          },
          "execution_count": 10,
          "metadata": {},
          "output_type": "execute_result"
        }
      ],
      "source": [
        "w2v.wv.most_similar(positive='elon')"
      ]
    },
    {
      "cell_type": "code",
      "execution_count": 11,
      "metadata": {
        "colab": {
          "base_uri": "https://localhost:8080/",
          "height": 265
        },
        "id": "m7y5LKpx1dJz",
        "outputId": "35d17d8f-2188-491c-9dcc-75d2fea38bf2"
      },
      "outputs": [
        {
          "data": {
            "image/png": "[encoded data removed]",
            "text/plain": [
              "<Figure size 640x480 with 1 Axes>"
            ]
          },
          "metadata": {},
          "output_type": "display_data"
        }
      ],
      "source": [
        "X = w2v.wv[w2v.wv.key_to_index]\n",
        "pca = PCA(n_components=2)\n",
        "result = pca.fit_transform(X)\n",
        "plt.scatter(result[:, 0], result[:, 1])\n",
        "\n",
        "words = list(w2v.wv.key_to_index)\n",
        "\n",
        "#for i, word in enumerate(words):\n",
        " # plt.annotate(word, xy=(result[i, 0], result[i,1]))\n",
        "\n",
        "plt.show()\n",
        "#fig.show()"
      ]
    },
    {
      "cell_type": "code",
      "execution_count": 12,
      "metadata": {},
      "outputs": [],
      "source": [
        "#for w in w2v.wv.key_to_index:\n",
        "#    print (w, w2v.wv[w].count)\n",
        "import re\n",
        "\n",
        "words = w2v.wv.index_to_key\n",
        "clean_words = []\n",
        "usless_words = []\n",
        "for word in words:\n",
        "    if (len(word) > 3):\n",
        "        clean_words.append(word)\n",
        "    else:\n",
        "        usless_words.append(word)\n",
        "\n",
        "word_dict = {}\n",
        "total_words = 0\n",
        "total_usefull = 0\n",
        "total_useless = 0\n",
        "useless_dict = {}\n",
        "total_dict = {}\n",
        "for tweets in tokenized_tweet:\n",
        "    for x in tweets:\n",
        "        total_words += 1\n",
        "\n",
        "        if (x in clean_words):\n",
        "            total_usefull += 1\n",
        "        if (x in usless_words):\n",
        "            total_useless +=1\n",
        "\n",
        "        if ((x in useless_dict) and (x in usless_words)):\n",
        "            useless_dict[x] += 1\n",
        "        elif ((x not in useless_dict) and (x in usless_words)):\n",
        "            useless_dict[x] = 1\n",
        "\n",
        "        if (x in word_dict and x in clean_words):\n",
        "            word_dict[x] += 1\n",
        "        elif (x not in word_dict and x in clean_words):\n",
        "            word_dict[x] = 1"
      ]
    },
    {
      "cell_type": "code",
      "execution_count": 13,
      "metadata": {},
      "outputs": [
        {
          "data": {
            "text/plain": [
              "{}"
            ]
          },
          "execution_count": 13,
          "metadata": {},
          "output_type": "execute_result"
        }
      ],
      "source": [
        "#{k: v for k, v in sorted(word_dict.items(), reverse=True, key=lambda item: item[1])}\n",
        "{k: v for k, v in sorted(useless_dict.items(), reverse=True, key=lambda item: item[1])}\n",
        "\n"
      ]
    },
    {
      "cell_type": "code",
      "execution_count": 14,
      "metadata": {},
      "outputs": [
        {
          "data": {
            "text/plain": [
              "<AxesSubplot:>"
            ]
          },
          "execution_count": 14,
          "metadata": {},
          "output_type": "execute_result"
        },
        {
          "data": {
            "image/png": "[encoded data removed]",
            "text/plain": [
              "<Figure size 640x480 with 1 Axes>"
            ]
          },
          "metadata": {},
          "output_type": "display_data"
        }
      ],
      "source": [
        "import seaborn as sns\n",
        "data = {'words': ['tesla', 'twitter', 'stock', 'people', 'model', 'think', 'billion', 'electric', 'price', 'world'],\n",
        "        'freq': [5181,891,557,337,336,302,244,211,194,191]}\n",
        "usefull_df = pd.DataFrame(data=data)\n",
        "\n",
        "sns.barplot(data=data, x=\"words\", y=\"freq\")"
      ]
    },
    {
      "cell_type": "code",
      "execution_count": 15,
      "metadata": {},
      "outputs": [
        {
          "data": {
            "text/plain": [
              "<AxesSubplot:>"
            ]
          },
          "execution_count": 15,
          "metadata": {},
          "output_type": "execute_result"
        },
        {
          "data": {
            "image/png": "[encoded data removed]",
            "text/plain": [
              "<Figure size 640x480 with 1 Axes>"
            ]
          },
          "metadata": {},
          "output_type": "display_data"
        }
      ],
      "source": [
        "'''\n",
        "'the': 5582,\n",
        " 'to': 4206,\n",
        " 'a': 3673,\n",
        " 'and': 2966,\n",
        " 'of': 2462,\n",
        " 'is': 2449,\n",
        " 'in': 2264,\n",
        " 'you': 1846,\n",
        " 'i': 1763,\n",
        " 'for': 1762,\n",
        "'''\n",
        "data = {'words': ['the', 'to', 'a', 'and', 'of', 'is', 'in', 'you', 'i', 'for'],\n",
        "        'freq': [5582, 4206, 3673, 2966, 2462, 2449, 2264, 1846, 1763, 1762]}\n",
        "useless_df = pd.DataFrame(data=data)\n",
        "\n",
        "sns.barplot(data=data, x=\"words\", y=\"freq\")"
      ]
    }
  ],
  "metadata": {
    "colab": {
      "collapsed_sections": [],
      "provenance": []
    },
    "kernelspec": {
      "display_name": "Python 3.9.13 ('projenv')",
      "language": "python",
      "name": "python3"
    },
    "language_info": {
      "codemirror_mode": {
        "name": "ipython",
        "version": 3
      },
      "file_extension": ".py",
      "mimetype": "text/x-python",
      "name": "python",
      "nbconvert_exporter": "python",
      "pygments_lexer": "ipython3",
      "version": "3.9.15"
    },
    "vscode": {
      "interpreter": {
        "hash": "184a7b725b42e16ca6402d45cf41e9a9ac40559ad56ade3fe7db092d885f8053"
      }
    }
  },
  "nbformat": 4,
  "nbformat_minor": 0
}
