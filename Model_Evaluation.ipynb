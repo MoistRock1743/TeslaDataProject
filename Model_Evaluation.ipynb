{
 "cells": [
  {
   "cell_type": "code",
   "execution_count": null,
   "metadata": {},
   "outputs": [],
   "source": [
    "import numpy as np\n",
    "import pandas as pd\n",
    "import nltk\n",
    "import warnings\n",
    "warnings.filterwarnings('ignore')\n",
    "\n",
    "df = pd.read_csv(\"https://raw.githubusercontent.com/JordanVencel/DFProject/main/Processed_Data.csv\")\n",
    "df.head()"
   ]
  },
  {
   "cell_type": "code",
   "execution_count": null,
   "metadata": {},
   "outputs": [],
   "source": [
    "# Set class_score to 1 if greater than .05 (positive).\n",
    "# to -1 if less that -0.05 (negative)\n",
    "# to 0 else (neutral)\n",
    "def categorise(row):\n",
    "  if row['sentiment_score'] > .05:\n",
    "    return 1\n",
    "  elif row['sentiment_score'] < -.05:\n",
    "    return -1\n",
    "  else:\n",
    "    return 0\n",
    "\n",
    "df['class_score'] = df.apply(lambda row: categorise(row), axis=1)\n",
    "df.head()"
   ]
  }
 ],
 "metadata": {
  "language_info": {
   "name": "python"
  },
  "orig_nbformat": 4
 },
 "nbformat": 4,
 "nbformat_minor": 2
}
